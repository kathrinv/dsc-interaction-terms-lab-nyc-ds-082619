{
 "cells": [
  {
   "cell_type": "markdown",
   "metadata": {},
   "source": [
    "# Interactions - Lab"
   ]
  },
  {
   "cell_type": "markdown",
   "metadata": {},
   "source": [
    "## Introduction"
   ]
  },
  {
   "cell_type": "markdown",
   "metadata": {},
   "source": [
    "In this lab, you'll explore interactions in the Boston Housing data set."
   ]
  },
  {
   "cell_type": "markdown",
   "metadata": {},
   "source": [
    "## Objectives"
   ]
  },
  {
   "cell_type": "markdown",
   "metadata": {},
   "source": [
    "You will be able to:\n",
    "- Understand what interactions are\n",
    "- Understand how to accommodate for interactions in regression"
   ]
  },
  {
   "cell_type": "markdown",
   "metadata": {},
   "source": [
    "## Build a baseline model "
   ]
  },
  {
   "cell_type": "markdown",
   "metadata": {},
   "source": [
    "You'll use a couple of built-in functions, which we imported for you below."
   ]
  },
  {
   "cell_type": "code",
   "execution_count": 1,
   "metadata": {},
   "outputs": [],
   "source": [
    "from sklearn.linear_model import LinearRegression\n",
    "from sklearn.model_selection import cross_val_score\n",
    "from sklearn.model_selection import KFold\n",
    "from sklearn.datasets import load_boston\n",
    "import pandas as pd\n",
    "import numpy as np\n",
    "import matplotlib.pyplot as plt"
   ]
  },
  {
   "cell_type": "markdown",
   "metadata": {},
   "source": [
    "Import the Boston data set using `load_boston()`. We won't bother to preprocess the data in this lab. If you still want to build a model in the end, you can do that, but this lab will just focus on finding meaningful insights in interactions and how they can improve $R^2$ values."
   ]
  },
  {
   "cell_type": "code",
   "execution_count": 2,
   "metadata": {},
   "outputs": [],
   "source": [
    "regression = LinearRegression()\n",
    "boston = load_boston()"
   ]
  },
  {
   "cell_type": "markdown",
   "metadata": {},
   "source": [
    "Create a baseline model which includes all the variables in the Boston housing data set to predict the house prices. Then use 10-fold cross-validation and report the mean $R^2$ value as the baseline $R^2$."
   ]
  },
  {
   "cell_type": "code",
   "execution_count": 40,
   "metadata": {},
   "outputs": [],
   "source": [
    "## code here\n",
    "X = pd.DataFrame(boston['data'])\n",
    "X.columns = boston['feature_names']\n",
    "y = pd.DataFrame(boston['target'])\n",
    "y.columns = ['MEDV']\n",
    "all_data = pd.concat([X, y], axis=1)            \n",
    "    \n",
    "crossvalidation = KFold(n_splits=10, shuffle=True, random_state=1)\n",
    "baseline = np.mean(cross_val_score(regression, X, y, scoring=\"r2\", cv=crossvalidation))"
   ]
  },
  {
   "cell_type": "code",
   "execution_count": 17,
   "metadata": {},
   "outputs": [
    {
     "data": {
      "text/plain": [
       "0.7190106820189475"
      ]
     },
     "execution_count": 17,
     "metadata": {},
     "output_type": "execute_result"
    }
   ],
   "source": [
    "baseline"
   ]
  },
  {
   "cell_type": "markdown",
   "metadata": {},
   "source": [
    "## See how interactions improve your baseline"
   ]
  },
  {
   "cell_type": "markdown",
   "metadata": {},
   "source": [
    "Next, create all possible combinations of interactions, loop over them and add them to the baseline model one by one to see how they affect the $R^2$. We'll look at the 3 interactions which have the biggest effect on our $R^2$, so print out the top 3 combinations.\n",
    "\n",
    "You will create a for loop to loop through all the combinations of 2 predictors. You can use `combinations` from itertools to create a list of all the pairwise combinations. To find more info on how this is done, have a look [here](https://docs.python.org/2/library/itertools.html)."
   ]
  },
  {
   "cell_type": "code",
   "execution_count": 18,
   "metadata": {},
   "outputs": [],
   "source": [
    "from itertools import combinations\n",
    "combinations = list(combinations(boston.feature_names, 2))"
   ]
  },
  {
   "cell_type": "code",
   "execution_count": 20,
   "metadata": {},
   "outputs": [
    {
     "data": {
      "text/plain": [
       "[('CRIM', 'ZN'),\n",
       " ('CRIM', 'INDUS'),\n",
       " ('CRIM', 'CHAS'),\n",
       " ('CRIM', 'NOX'),\n",
       " ('CRIM', 'RM')]"
      ]
     },
     "execution_count": 20,
     "metadata": {},
     "output_type": "execute_result"
    }
   ],
   "source": [
    "combinations[:5]"
   ]
  },
  {
   "cell_type": "code",
   "execution_count": 22,
   "metadata": {},
   "outputs": [
    {
     "data": {
      "text/plain": [
       "('CRIM', 'ZN')"
      ]
     },
     "execution_count": 22,
     "metadata": {},
     "output_type": "execute_result"
    }
   ],
   "source": [
    "combinations[0]"
   ]
  },
  {
   "cell_type": "code",
   "execution_count": 24,
   "metadata": {},
   "outputs": [
    {
     "data": {
      "text/plain": [
       "'CRIM_ZN'"
      ]
     },
     "execution_count": 24,
     "metadata": {},
     "output_type": "execute_result"
    }
   ],
   "source": [
    "combinations[0][0]+\"_\"+combinations[0][1]"
   ]
  },
  {
   "cell_type": "code",
   "execution_count": 27,
   "metadata": {},
   "outputs": [],
   "source": [
    "## code to find top 3 interactions by R^2 value here\n",
    "interation_R = []\n",
    "for combination in combinations:\n",
    "    X_interact = X.copy()\n",
    "    X_interact[combination[0]+\"_\"+combination[1]] = X[combination[0]] * X[combination[1]]\n",
    "    interact_R = np.mean(cross_val_score(regression,\n",
    "                                                    X_interact,\n",
    "                                                    y,\n",
    "                                                    scoring=\"r2\",\n",
    "                                                    cv=crossvalidation))\n",
    "    interation_R.append([combination, interact_R])"
   ]
  },
  {
   "cell_type": "code",
   "execution_count": 33,
   "metadata": {},
   "outputs": [
    {
     "data": {
      "text/plain": [
       "[[('RM', 'LSTAT'), 0.7864889421124032],\n",
       " [('RM', 'TAX'), 0.7750525123747651],\n",
       " [('RM', 'RAD'), 0.7682152400234054],\n",
       " [('RM', 'PTRATIO'), 0.7633759067582868],\n",
       " [('INDUS', 'RM'), 0.7577805143520179],\n",
       " [('NOX', 'RM'), 0.7453599495065311],\n",
       " [('RM', 'AGE'), 0.7406598760890253],\n",
       " [('RM', 'B'), 0.7385665707082879],\n",
       " [('RM', 'DIS'), 0.7342130965590978],\n",
       " [('ZN', 'RM'), 0.72882064115271],\n",
       " [('INDUS', 'DIS'), 0.7283635108497113],\n",
       " [('ZN', 'INDUS'), 0.7245130249509673],\n",
       " [('CRIM', 'CHAS'), 0.7224266827041406],\n",
       " [('INDUS', 'TAX'), 0.7223792494260635],\n",
       " [('INDUS', 'AGE'), 0.7222863283272001],\n",
       " [('TAX', 'PTRATIO'), 0.7220753714337268],\n",
       " [('CRIM', 'RAD'), 0.7218426607693014],\n",
       " [('NOX', 'RAD'), 0.7216402620446948],\n",
       " [('DIS', 'PTRATIO'), 0.7212530527937477],\n",
       " [('CRIM', 'TAX'), 0.721193712503856],\n",
       " [('AGE', 'DIS'), 0.7210193945912328],\n",
       " [('CHAS', 'LSTAT'), 0.7210130989247112],\n",
       " [('CRIM', 'NOX'), 0.7209568446771786],\n",
       " [('AGE', 'B'), 0.7209442240026325],\n",
       " [('NOX', 'PTRATIO'), 0.7208556256614026],\n",
       " [('CRIM', 'LSTAT'), 0.7204731402012061],\n",
       " [('CHAS', 'TAX'), 0.7204452777744264],\n",
       " [('CRIM', 'PTRATIO'), 0.7203531457728605],\n",
       " [('CHAS', 'RAD'), 0.7199062643047318],\n",
       " [('ZN', 'DIS'), 0.7198623421930641],\n",
       " [('CHAS', 'B'), 0.7196376401298081],\n",
       " [('NOX', 'DIS'), 0.7195305930076337],\n",
       " [('AGE', 'PTRATIO'), 0.7195247635095344],\n",
       " [('NOX', 'TAX'), 0.7194683252011801],\n",
       " [('INDUS', 'LSTAT'), 0.7193723158986417],\n",
       " [('NOX', 'B'), 0.7192004212855702],\n",
       " [('DIS', 'B'), 0.7191799627871102],\n",
       " [('PTRATIO', 'LSTAT'), 0.7189192431009295],\n",
       " [('ZN', 'LSTAT'), 0.7189128377220495],\n",
       " [('DIS', 'TAX'), 0.7188339338593153],\n",
       " [('PTRATIO', 'B'), 0.7187747903466472],\n",
       " [('INDUS', 'NOX'), 0.7186439479475218],\n",
       " [('CRIM', 'AGE'), 0.718638564907109],\n",
       " [('RAD', 'TAX'), 0.7184832333208993],\n",
       " [('CHAS', 'NOX'), 0.7184577020551837],\n",
       " [('ZN', 'RAD'), 0.7183416822181858],\n",
       " [('INDUS', 'RAD'), 0.7183108068285016],\n",
       " [('ZN', 'NOX'), 0.7183045979214395],\n",
       " [('INDUS', 'PTRATIO'), 0.7182884354247877],\n",
       " [('ZN', 'PTRATIO'), 0.7182396917152198],\n",
       " [('DIS', 'LSTAT'), 0.7182106823765708],\n",
       " [('ZN', 'AGE'), 0.7181988644469852],\n",
       " [('ZN', 'CHAS'), 0.7181494046844513],\n",
       " [('INDUS', 'B'), 0.7180904055577046],\n",
       " [('RAD', 'PTRATIO'), 0.7180755401006278],\n",
       " [('CRIM', 'ZN'), 0.7180486571803364],\n",
       " [('INDUS', 'CHAS'), 0.7180330023698097],\n",
       " [('CRIM', 'INDUS'), 0.7180024566678991],\n",
       " [('B', 'LSTAT'), 0.7178930818773741],\n",
       " [('ZN', 'B'), 0.7178806692926967],\n",
       " [('NOX', 'AGE'), 0.7178273549805458],\n",
       " [('DIS', 'RAD'), 0.7177953316377021],\n",
       " [('CRIM', 'DIS'), 0.717756843237861],\n",
       " [('CHAS', 'AGE'), 0.7177241172798559],\n",
       " [('AGE', 'TAX'), 0.7176729020685164],\n",
       " [('TAX', 'B'), 0.7175783335179237],\n",
       " [('RAD', 'B'), 0.7175471138330047],\n",
       " [('NOX', 'LSTAT'), 0.7172607859057882],\n",
       " [('CHAS', 'DIS'), 0.7171246240196909],\n",
       " [('AGE', 'RAD'), 0.7169145930312537],\n",
       " [('CHAS', 'PTRATIO'), 0.7168977502868772],\n",
       " [('TAX', 'LSTAT'), 0.7168545256468933],\n",
       " [('ZN', 'TAX'), 0.7165591526708506],\n",
       " [('RAD', 'LSTAT'), 0.7160169205618111],\n",
       " [('CRIM', 'B'), 0.7146287027789205],\n",
       " [('AGE', 'LSTAT'), 0.7137298809460878],\n",
       " [('CHAS', 'RM'), 0.7086604865139805],\n",
       " [('CRIM', 'RM'), 0.7081164870054808]]"
      ]
     },
     "execution_count": 33,
     "metadata": {},
     "output_type": "execute_result"
    }
   ],
   "source": [
    "interation_R.sort(key=lambda x: x[1], reverse=True)\n",
    "interation_R"
   ]
  },
  {
   "cell_type": "markdown",
   "metadata": {},
   "source": [
    "## Look at the top 3 interactions: \"RM\" as a confounding factor"
   ]
  },
  {
   "cell_type": "markdown",
   "metadata": {},
   "source": [
    "The top three interactions seem to involve \"RM\", the number of rooms as a confounding variable for all of them. Let's have a look at interaction plots for all three of them. This exercise will involve:\n",
    "\n",
    "- splitting the data up in 3 groups: one for houses with a few rooms, one for houses with a \"medium\" amount of rooms, one for a high amount of rooms.\n",
    "- Create a function `build_interaction_rm`. This function takes an argument `varname` (which can be set equal to the column name as a string) and a column `description` (which describes the variable or varname, to be included on the x-axis of the plot). The function outputs a plot that uses \"RM\" as a confounding factor. Each plot should have three regression lines, one for each level of \"RM.\" "
   ]
  },
  {
   "cell_type": "markdown",
   "metadata": {},
   "source": [
    "The data has been split into high, medium and low number of rooms for you."
   ]
  },
  {
   "cell_type": "code",
   "execution_count": 36,
   "metadata": {},
   "outputs": [],
   "source": [
    "rm = np.asarray(X[[\"RM\"]]).reshape(len(X[[\"RM\"]]))"
   ]
  },
  {
   "cell_type": "code",
   "execution_count": 42,
   "metadata": {},
   "outputs": [],
   "source": [
    "high_rm = all_data[rm > np.percentile(rm, 67)]\n",
    "med_rm = all_data[(rm > np.percentile(rm, 33)) & (rm <= np.percentile(rm, 67))]\n",
    "low_rm = all_data[rm <= np.percentile(rm, 33)]"
   ]
  },
  {
   "cell_type": "markdown",
   "metadata": {},
   "source": [
    "Create `build_interaction_rm`."
   ]
  },
  {
   "cell_type": "code",
   "execution_count": 44,
   "metadata": {},
   "outputs": [],
   "source": [
    "def build_interaction_rm(varname, description):\n",
    "    plt.figure(figsize=(10,6))\n",
    "    plt.scatter(high_rm[varname], high_rm['MEDV'], color='red')\n",
    "    plt.scatter(med_rm[varname], high_rm['MEDV'], color='red')\n",
    "    plt.scatter(low_rm[varname], high_rm['MEDV'], color='red')\n",
    "    plt.xlabel(description)\n",
    "    plt.show()"
   ]
  },
  {
   "cell_type": "markdown",
   "metadata": {},
   "source": [
    "Next, use build_interaction_rm with the three variables that came out with the highest effect on $R^2$"
   ]
  },
  {
   "cell_type": "code",
   "execution_count": null,
   "metadata": {},
   "outputs": [],
   "source": [
    "build_interaction_rm(LSTAT,)"
   ]
  },
  {
   "cell_type": "code",
   "execution_count": null,
   "metadata": {},
   "outputs": [],
   "source": [
    "# second plot"
   ]
  },
  {
   "cell_type": "code",
   "execution_count": null,
   "metadata": {},
   "outputs": [],
   "source": [
    "# third plot"
   ]
  },
  {
   "cell_type": "markdown",
   "metadata": {},
   "source": [
    "## Build a final model including all three interactions at once"
   ]
  },
  {
   "cell_type": "markdown",
   "metadata": {},
   "source": [
    "Use 10-fold cross validation."
   ]
  },
  {
   "cell_type": "code",
   "execution_count": null,
   "metadata": {},
   "outputs": [],
   "source": [
    "# code here"
   ]
  },
  {
   "cell_type": "code",
   "execution_count": null,
   "metadata": {},
   "outputs": [],
   "source": [
    "# code here"
   ]
  },
  {
   "cell_type": "markdown",
   "metadata": {},
   "source": [
    "Our $R^2$ has increased considerably! Let's have a look in statsmodels to see if all these interactions are significant."
   ]
  },
  {
   "cell_type": "code",
   "execution_count": null,
   "metadata": {},
   "outputs": [],
   "source": [
    "# code here"
   ]
  },
  {
   "cell_type": "markdown",
   "metadata": {},
   "source": [
    "What is your conclusion here?"
   ]
  },
  {
   "cell_type": "code",
   "execution_count": null,
   "metadata": {},
   "outputs": [],
   "source": [
    "# formulate your conclusion"
   ]
  },
  {
   "cell_type": "markdown",
   "metadata": {},
   "source": [
    "## Summary"
   ]
  },
  {
   "cell_type": "markdown",
   "metadata": {},
   "source": [
    "You should now understand how to include interaction effects in your model! As you can see, interactions can have a strong impact on linear regression models, and they should always be considered when you are constructing your models."
   ]
  }
 ],
 "metadata": {
  "kernelspec": {
   "display_name": "Python 3",
   "language": "python",
   "name": "python3"
  },
  "language_info": {
   "codemirror_mode": {
    "name": "ipython",
    "version": 3
   },
   "file_extension": ".py",
   "mimetype": "text/x-python",
   "name": "python",
   "nbconvert_exporter": "python",
   "pygments_lexer": "ipython3",
   "version": "3.6.6"
  }
 },
 "nbformat": 4,
 "nbformat_minor": 2
}
